{
 "cells": [
  {
   "cell_type": "markdown",
   "metadata": {},
   "source": [
    "# **\"Öğrenci Performansı\" Veri Seti Üzerinde Python ile İstatistiki Analizler**"
   ]
  },
  {
   "cell_type": "markdown",
   "metadata": {},
   "source": [
    "## *Hakan BAYRAKTAR - 22 42 10 022 | Adem UZUN - 22 42 10 064*"
   ]
  },
  {
   "cell_type": "markdown",
   "metadata": {},
   "source": [
    "### **0. Gerekli Kütüphanelerin Projeye Dahil Edilmesi ve Verinin Okunması**"
   ]
  },
  {
   "cell_type": "code",
   "execution_count": null,
   "metadata": {},
   "outputs": [],
   "source": [
    "import pandas as pd                  # veri setini projeye dahil etmek ve çeşitli analiz işlemleri için\n",
    "import numpy as np                   # matematiksel işlemler için\n",
    "import matplotlib.pyplot as plt      # grafikler çizdirmek için\n",
    "import seaborn as sns                # grafikler çizdirmek için\n",
    "from scipy.stats import pearsonr     # korelasyon analizi için"
   ]
  },
  {
   "cell_type": "code",
   "execution_count": null,
   "metadata": {},
   "outputs": [],
   "source": [
    "data = pd.read_excel('OgrenciPerformansi.xlsx')   # excel formatındaki veri seti okundu \"data\" değişkenine atandı\n",
    "data.index = range(1, len(data) + 1)\n",
    "display(data)                                     # \"data\" değişkenini görüntülemek"
   ]
  },
  {
   "cell_type": "markdown",
   "metadata": {},
   "source": [
    "### **1. Tanımlayıcı İstatistiklerin Elde Edilmesi ve Sunulması**"
   ]
  },
  {
   "cell_type": "code",
   "execution_count": null,
   "metadata": {},
   "outputs": [],
   "source": [
    "summary_stats = []\n",
    "for column in data.columns[1:]:\n",
    "    if data[column].dtype in [np.float64, np.int64]:\n",
    "        summary_stats.append({\n",
    "            \"Sütun\": column,\n",
    "            \"Ortalama\": round(data[column].mean(), 2),\n",
    "            \"Medyan\": round(data[column].median(), 2),\n",
    "            \"Mod\": round(data[column].mode()[0], 2),\n",
    "            \"Standart Sapma\": round(data[column].std(), 2),\n",
    "            \"Varyans\": round(data[column].var(), 2),\n",
    "        })\n",
    "\n",
    "summary_data = pd.DataFrame(summary_stats)\n",
    "summary_data.index = range(1, len(summary_data) + 1)\n",
    "display(summary_data)"
   ]
  },
  {
   "cell_type": "markdown",
   "metadata": {},
   "source": [
    "### **2. Verilerin Görselleştirilmesi**"
   ]
  },
  {
   "cell_type": "markdown",
   "metadata": {},
   "source": [
    "#### a. Yaş Verilerinin Görselleştirilmesi"
   ]
  },
  {
   "cell_type": "code",
   "execution_count": null,
   "metadata": {},
   "outputs": [],
   "source": [
    "plt.figure(figsize=(8, 5))\n",
    "plt.hist(data['Yas'], bins=[14.8, 15.2, 15.8, 16.2, 16.8, 17.2, 17.8, 18.2], color='blue', alpha=0.7, edgecolor='black')\n",
    "plt.title(\"Yaş Dağılımı - Çubuk Grafiği\")\n",
    "plt.xlabel(\"Yaş\")\n",
    "plt.ylabel(\"Frekans\")\n",
    "plt.xticks([15, 16, 17, 18])\n",
    "plt.grid(axis='y', alpha=0.75)\n",
    "plt.show()"
   ]
  },
  {
   "cell_type": "markdown",
   "metadata": {},
   "source": [
    "#### b. Cinsiyet Verilerinin Görselleştirilmesi"
   ]
  },
  {
   "cell_type": "code",
   "execution_count": null,
   "metadata": {},
   "outputs": [],
   "source": [
    "plt.figure(figsize=(10, 6))\n",
    "sns.countplot(x='Yas', hue='Cinsiyet', data=data, palette='Set2')\n",
    "plt.title(\"Cinsiyete Göre Yaş Dağılımı - Çoklu Çubuk Grafiği\")\n",
    "plt.xlabel(\"Yaş\")\n",
    "plt.ylabel(\"Frekans\")\n",
    "plt.legend(title=\"Cinsiyet\", labels=['Erkek', 'Kız'])\n",
    "plt.grid(True)\n",
    "plt.show()"
   ]
  },
  {
   "cell_type": "markdown",
   "metadata": {},
   "source": [
    "#### c. Etnik Bilgi Verilerinin Görselleştirilmesi"
   ]
  },
  {
   "cell_type": "code",
   "execution_count": null,
   "metadata": {},
   "outputs": [],
   "source": [
    "plt.figure(figsize=(8, 6))\n",
    "sns.countplot(x='Etnik', data=data, palette='Set2')\n",
    "plt.title(\"Etnik Gruba Göre Öğrenci Dağılımı - Çubuk Grafiği\")\n",
    "plt.xlabel(\"Etnik Grup\")\n",
    "plt.ylabel(\"Öğrenci Sayısı\")\n",
    "plt.xticks([0, 1, 2, 3], ['Kafkas', 'Afro-Amerikan', 'Asyalı', 'Diğer'])\n",
    "plt.grid(True)\n",
    "plt.show()"
   ]
  },
  {
   "cell_type": "code",
   "execution_count": null,
   "metadata": {},
   "outputs": [],
   "source": [
    "plt.figure(figsize=(10, 6))\n",
    "sns.kdeplot(data=data, x='Yas', hue='Etnik', fill=True, palette='Set2', common_norm=False)\n",
    "plt.title(\"Etnik Gruba Göre Yaş Dağılımı - Yoğunluk Grafiği\")\n",
    "plt.xlabel(\"Yaş\")\n",
    "plt.ylabel(\"Yoğunluk\")\n",
    "plt.legend(title=\"Etnik Grup\", labels=['Kafkas', 'Afro-Amerikan', 'Asyalı', 'Diğer'])\n",
    "plt.grid(True)\n",
    "plt.show()"
   ]
  },
  {
   "cell_type": "code",
   "execution_count": null,
   "metadata": {},
   "outputs": [],
   "source": [
    "# Yaş gruplarına göre etnik dağılımı gösterelim\n",
    "age_ethnic_pivot = data.pivot_table(index='Yas', columns='Etnik', aggfunc='size', fill_value=0)\n",
    "\n",
    "plt.figure(figsize=(10, 6))\n",
    "age_ethnic_pivot.plot(kind='bar', stacked=True, color=['blue', 'green', 'orange', 'red'])\n",
    "plt.title(\"Etnik Gruba Göre Yaş Dağılımı - Yığılmış Sütun Grafiği\")\n",
    "plt.xlabel(\"Yaş\")\n",
    "plt.ylabel(\"Frekans\")\n",
    "plt.xticks(rotation=0)\n",
    "plt.legend(title=\"Etnik Grup\", labels=['Kafkas', 'Afro-Amerikan', 'Asyalı', 'Diğer'])\n",
    "plt.grid(True)\n",
    "plt.show()"
   ]
  },
  {
   "cell_type": "markdown",
   "metadata": {},
   "source": [
    "#### d. Ebeveyn Eğitimi Verilerinin Görselleştirilmesi"
   ]
  },
  {
   "cell_type": "code",
   "execution_count": null,
   "metadata": {},
   "outputs": [],
   "source": [
    "plt.figure(figsize=(8, 6))\n",
    "sns.countplot(x='EbeynEgitim', data=data, palette='Set2')\n",
    "plt.title(\"Ebeveyn Eğitim Düzeyine Göre Dağılım - Çubuk Grafiği\")\n",
    "plt.xlabel(\"Ebeveyn Eğitimi\")\n",
    "plt.ylabel(\"Öğrenci Sayısı\")\n",
    "plt.xticks([0, 1, 2, 3, 4], ['Yok', 'Lise', 'Ön Lisans', 'Lisans', 'Daha Yüksek'])\n",
    "plt.grid(True)\n",
    "plt.show()"
   ]
  },
  {
   "cell_type": "markdown",
   "metadata": {},
   "source": [
    "#### e. Ebeveyn Desteği Verilerinin Görselleştirilmesi"
   ]
  },
  {
   "cell_type": "code",
   "execution_count": null,
   "metadata": {},
   "outputs": [],
   "source": [
    "plt.figure(figsize=(8, 6))\n",
    "data['EbeveynDestegi'].value_counts().plot.pie(labels=['Yok', 'Düşük', 'Ortalama', 'Yüksek', 'Çok Yüksek'], autopct='%1.1f%%', startangle=90, colors=['lightblue', 'lightgreen', 'yellow', 'orange', 'red'])\n",
    "plt.title(\"Ebeveyn Desteği Seviyelerinin Dağılımı - Pasta Grafiği\")\n",
    "plt.ylabel('')  # Pie chart'da y-label gereksiz\n",
    "plt.show()"
   ]
  },
  {
   "cell_type": "code",
   "execution_count": null,
   "metadata": {},
   "outputs": [],
   "source": [
    "plt.figure(figsize=(10, 6))\n",
    "sns.countplot(x='EbeveynDestegi', data=data, palette='Set2')\n",
    "plt.title(\"Ebeveyn Desteği Seviyelerine Göre Öğrenci Dağılımı - Çubuk Grafiği\")\n",
    "plt.xlabel(\"Ebeveyn Desteği Seviyesi\")\n",
    "plt.ylabel(\"Öğrenci Sayısı\")\n",
    "plt.xticks([0, 1, 2, 3, 4], ['Yok', 'Düşük', 'Ortalama', 'Yüksek', 'Çok Yüksek'])\n",
    "plt.grid(True)\n",
    "plt.show()"
   ]
  },
  {
   "cell_type": "markdown",
   "metadata": {},
   "source": [
    "#### f. Özel Ders Alma Durumu Verilerinin Görselleştirilmesi"
   ]
  },
  {
   "cell_type": "code",
   "execution_count": null,
   "metadata": {},
   "outputs": [],
   "source": [
    "plt.figure(figsize=(8, 6))\n",
    "data['OzelDers'].value_counts().plot.pie(labels=['Almayan', 'Alan'], autopct='%1.1f%%', startangle=90, colors=['lightblue', 'lightgreen'])\n",
    "plt.title(\"Özel Ders Alan ve Almayan Öğrenciler - Pasta Grafiği\")\n",
    "plt.ylabel('')  # Pie chart'da y-label gereksiz\n",
    "plt.show()"
   ]
  },
  {
   "cell_type": "markdown",
   "metadata": {},
   "source": [
    "#### g. Müfredat Dışı Faaliyetlere Katılım Verilerinin Görselleştirilmesi"
   ]
  },
  {
   "cell_type": "code",
   "execution_count": null,
   "metadata": {},
   "outputs": [],
   "source": [
    "plt.figure(figsize=(8, 6))\n",
    "data['MufredatDısı'].value_counts().plot.pie(labels=['Katılmayan', 'Katılan'], autopct='%1.1f%%', startangle=90, colors=['lightblue', 'lightgreen'])\n",
    "plt.title(\"Müfredat Dışı Faaliyetlere Katılan ve Katılmayan Öğrenciler - Pasta Grafiği\")\n",
    "plt.ylabel('')  # Pie chart'da y-label gereksiz\n",
    "plt.show()"
   ]
  },
  {
   "cell_type": "code",
   "execution_count": null,
   "metadata": {},
   "outputs": [],
   "source": [
    "plt.figure(figsize=(8, 6))\n",
    "sns.countplot(x='MufredatDısı', data=data, palette='Set2')\n",
    "plt.title(\"Müfredat Dışı Faaliyetlere Katılan ve Katılmayan Öğrencilerin Dağılımı - Çubuk Grafiği\")\n",
    "plt.xlabel(\"Müfredat Dışı Faaliyet Katılım Durumu\")\n",
    "plt.ylabel(\"Öğrenci Sayısı\")\n",
    "plt.xticks([0, 1], ['Katılmayan', 'Katılan'])\n",
    "plt.grid(True)\n",
    "plt.show()"
   ]
  },
  {
   "cell_type": "code",
   "execution_count": null,
   "metadata": {},
   "outputs": [],
   "source": [
    "plt.figure(figsize=(10, 6))\n",
    "sns.kdeplot(data=data, x='Yas', hue='MufredatDısı', fill=True, palette='Set2', common_norm=False)\n",
    "plt.title(\"Müfredat Dışı Faaliyetlere Katılan ve Katılmayan Öğrencilerin Yaş Dağılımı - Yoğunluk Grafiği\")\n",
    "plt.xlabel(\"Yaş\")\n",
    "plt.ylabel(\"Yoğunluk\")\n",
    "plt.legend(title=\"Katılım Durumu\", labels=['Katılmayan', 'Katılan'])\n",
    "plt.grid(True)\n",
    "plt.show()"
   ]
  },
  {
   "cell_type": "markdown",
   "metadata": {},
   "source": [
    "#### h. Spor Etkinliklerine Katılım Verilerinin Görselleştirilmesi"
   ]
  },
  {
   "cell_type": "code",
   "execution_count": null,
   "metadata": {},
   "outputs": [],
   "source": [
    "plt.figure(figsize=(8, 6))\n",
    "sns.countplot(x='Spor', data=data, palette='Set2')\n",
    "plt.title(\"Öğrencilerin Spor Etkinliklerine Katılım Durumu - Çubuk Grafiği\")\n",
    "plt.xlabel(\"Katılım Durumu\")\n",
    "plt.ylabel(\"Öğrenci Sayısı\")\n",
    "plt.xticks([0, 1], ['Katılmayan', 'Katılan'])\n",
    "plt.grid(True)\n",
    "plt.show()"
   ]
  },
  {
   "cell_type": "markdown",
   "metadata": {},
   "source": [
    "#### i. Müzik Etkinliklerine Katılım Verilerinin Görselleştirilmesi"
   ]
  },
  {
   "cell_type": "code",
   "execution_count": null,
   "metadata": {},
   "outputs": [],
   "source": [
    "plt.figure(figsize=(8, 6))\n",
    "sns.countplot(x='Gonulluluk', data=data, palette='Set2')\n",
    "plt.title(\"Müzik Etkinliklerine Katılan ve Katılmayan Öğrencilerin Dağılımı\")\n",
    "plt.xlabel(\"Müzik Etkinliğine Katılım Durumu\")\n",
    "plt.ylabel(\"Öğrenci Sayısı\")\n",
    "plt.xticks([0, 1], ['Katılmayan', 'Katılan'])\n",
    "plt.grid(True)\n",
    "plt.show()"
   ]
  },
  {
   "cell_type": "code",
   "execution_count": null,
   "metadata": {},
   "outputs": [],
   "source": [
    "plt.figure(figsize=(10, 6))\n",
    "sns.kdeplot(data=data, x='Yas', hue='Gonulluluk', fill=True, palette='Set2', common_norm=False)\n",
    "plt.title(\"Müzik Etkinliklerine Katılan ve Katılmayan Öğrencilerin Yaş Dağılımı - Yoğunluk Grafiği\")\n",
    "plt.xlabel(\"Yaş\")\n",
    "plt.ylabel(\"Yoğunluk\")\n",
    "plt.legend(title=\"Katılım Durumu\", labels=['Katılmayan', 'Katılan'])\n",
    "plt.grid(True)\n",
    "plt.show()"
   ]
  },
  {
   "cell_type": "code",
   "execution_count": null,
   "metadata": {},
   "outputs": [],
   "source": [
    "plt.figure(figsize=(10, 6))\n",
    "sns.boxplot(x='Gonulluluk', y='Yas', data=data, palette='Set2')\n",
    "plt.title(\"Müzik Etkinliklerine Katılan ve Katılmayan Öğrencilerin Yaş Dağılımı - Kutu Grafiği\")\n",
    "plt.xlabel(\"Müzik Etkinliğine Katılım Durumu\")\n",
    "plt.ylabel(\"Yaş\")\n",
    "plt.xticks([0, 1], ['Katılmayan', 'Katılan'])\n",
    "plt.grid(True)\n",
    "plt.show()"
   ]
  },
  {
   "cell_type": "code",
   "execution_count": null,
   "metadata": {},
   "outputs": [],
   "source": [
    "plt.figure(figsize=(8, 6))\n",
    "data['Gonulluluk'].value_counts().plot.pie(labels=['Katılmayan', 'Katılan'], autopct='%1.1f%%', startangle=90, colors=['lightblue', 'lightgreen'])\n",
    "plt.title(\"Müzik Etkinliklerine Katılan ve Katılmayan Öğrencilerin Oranı\")\n",
    "plt.ylabel('')  # Pie chart'da y-label gereksiz\n",
    "plt.show()"
   ]
  },
  {
   "cell_type": "markdown",
   "metadata": {},
   "source": [
    "#### j. Gönüllülük Faaliyetlerine Katılım Verilerinin Görselleştirilmesi"
   ]
  },
  {
   "cell_type": "code",
   "execution_count": null,
   "metadata": {},
   "outputs": [],
   "source": [
    "plt.figure(figsize=(8, 6))\n",
    "data['Gonulluluk'].value_counts().plot.pie(labels=['Katılmayan', 'Katılan'], autopct='%1.1f%%', startangle=90, colors=['lightblue', 'lightgreen'])\n",
    "plt.title(\"Gönüllülük Faaliyetlerine Katılan ve Katılmayan Öğrenciler - Pasta Grafiği\")\n",
    "plt.ylabel('')  # Pie chart'da y-label gereksiz\n",
    "plt.show()"
   ]
  },
  {
   "cell_type": "markdown",
   "metadata": {},
   "source": [
    "#### k. Devamsızlık Verilerinin Görselleştirilmesi"
   ]
  },
  {
   "cell_type": "code",
   "execution_count": null,
   "metadata": {},
   "outputs": [],
   "source": [
    "plt.figure(figsize=(10, 6))\n",
    "sns.histplot(data['Devamsızlık'], bins=20, kde=True, color='skyblue', edgecolor='black')\n",
    "plt.title(\"Öğrencilerin Devamsızlık Gün Sayılarının Dağılımı - Histogram Grafiği\")\n",
    "plt.xlabel(\"Devamsızlık Gün Sayısı\")\n",
    "plt.ylabel(\"Öğrenci Sayısı\")\n",
    "plt.grid(True)\n",
    "plt.show()"
   ]
  },
  {
   "cell_type": "code",
   "execution_count": null,
   "metadata": {},
   "outputs": [],
   "source": [
    "plt.figure(figsize=(10, 6))\n",
    "sns.boxplot(x=data['Devamsızlık'], color='lightgreen')\n",
    "plt.title(\"Öğrencilerin Devamsızlık Gün Sayılarının Dağılımı - Kutu Grafiği\")\n",
    "plt.xlabel(\"Devamsızlık Gün Sayısı\")\n",
    "plt.grid(True)\n",
    "plt.show()\n"
   ]
  },
  {
   "cell_type": "code",
   "execution_count": null,
   "metadata": {},
   "outputs": [],
   "source": [
    "plt.figure(figsize=(10, 6))\n",
    "sns.kdeplot(data['Devamsızlık'], shade=True, color='salmon')\n",
    "plt.title(\"Öğrencilerin Devamsızlık Gün Sayılarının Yoğunluğu\")\n",
    "plt.xlabel(\"Devamsızlık Gün Sayısı\")\n",
    "plt.ylabel(\"Yoğunluk\")\n",
    "plt.grid(True)\n",
    "plt.show()"
   ]
  },
  {
   "cell_type": "code",
   "execution_count": null,
   "metadata": {},
   "outputs": [],
   "source": [
    "# Devamsızlık verisini kategorilere ayıralım\n",
    "bins = [0, 5, 10, 15, 20, 30, 40, 50]\n",
    "labels = ['0-5', '6-10', '11-15', '16-20', '21-30', '31-40', '40+']\n",
    "data['Devamsızlık_Kategori'] = pd.cut(data['Devamsızlık'], bins=bins, labels=labels)\n",
    "\n",
    "# Sütun grafiği ile görselleştirme\n",
    "plt.figure(figsize=(10, 6))\n",
    "sns.countplot(x='Devamsızlık_Kategori', data=data, palette='Set2')\n",
    "plt.title(\"Öğrencilerin Devamsızlık Kategorilerine Göre Dağılımı\")\n",
    "plt.xlabel(\"Devamsızlık Gün Sayısı Kategorisi\")\n",
    "plt.ylabel(\"Öğrenci Sayısı\")\n",
    "plt.grid(True)\n",
    "plt.show()"
   ]
  },
  {
   "cell_type": "markdown",
   "metadata": {},
   "source": [
    "#### l. Haftalık Ders Çalışma Süresi Verilerinin Görselleştirilmesi"
   ]
  },
  {
   "cell_type": "code",
   "execution_count": null,
   "metadata": {},
   "outputs": [],
   "source": [
    "# HaftalikCalisma sütunundaki sayıları virgülden sonra 2 basamağa yuvarlayalım\n",
    "data['HaftalikCalisma'] = data['HaftalikCalisma'].round(2)"
   ]
  },
  {
   "cell_type": "code",
   "execution_count": null,
   "metadata": {},
   "outputs": [],
   "source": [
    "plt.figure(figsize=(10, 6))\n",
    "sns.kdeplot(data['HaftalikCalisma'], shade=True, color='mediumpurple')\n",
    "plt.title(\"Öğrencilerin Haftalık Ders Çalışma Süreleri - Yoğunluk Grafiği\")\n",
    "plt.xlabel(\"Haftalık Ders Çalışma Süresi (Saat)\")\n",
    "plt.ylabel(\"Yoğunluk\")\n",
    "plt.grid(True)\n",
    "plt.show()"
   ]
  },
  {
   "cell_type": "markdown",
   "metadata": {},
   "source": [
    "#### m. GANO Verilerinin Görselleştirilmesi"
   ]
  },
  {
   "cell_type": "code",
   "execution_count": null,
   "metadata": {},
   "outputs": [],
   "source": [
    "# GANO sütunundaki sayıları virgülden sonra 2 basamağa yuvarlayalım\n",
    "data['GANO'] = data['GANO'].round(2)"
   ]
  },
  {
   "cell_type": "code",
   "execution_count": null,
   "metadata": {},
   "outputs": [],
   "source": [
    "plt.figure(figsize=(10, 6))\n",
    "sns.histplot(data['GANO'], bins=20, kde=True, color='lightblue', edgecolor='black')\n",
    "plt.title(\"Öğrencilerin GANO Dağılımı - Histogram Grafiği\")\n",
    "plt.xlabel(\"GANO\")\n",
    "plt.ylabel(\"Öğrenci Sayısı\")\n",
    "plt.grid(True)\n",
    "plt.show()\n"
   ]
  },
  {
   "cell_type": "markdown",
   "metadata": {},
   "source": [
    "#### n. Sınıf Seviyesi Verilerinin Görselleştirilmesi"
   ]
  },
  {
   "cell_type": "code",
   "execution_count": null,
   "metadata": {},
   "outputs": [],
   "source": [
    "plt.figure(figsize=(10, 6))\n",
    "data['Sınıf'].value_counts().sort_index().plot(\n",
    "    kind='barh', \n",
    "    color=sns.color_palette('muted'), \n",
    "    edgecolor='black'\n",
    ")\n",
    "plt.title(\"Öğrencilerin Sınıf Düzeylerine Göre Dağılımı - Yatay Çubuk Grafiği\")\n",
    "plt.xlabel(\"Öğrenci Sayısı\")\n",
    "plt.ylabel(\"Sınıf Düzeyi\")\n",
    "plt.yticks([0, 1, 2, 3, 4], ['1. Sınıf', '2. Sınıf', '3. Sınıf', '4. Sınıf', 'Toplam'])\n",
    "plt.grid(axis='x')\n",
    "plt.show()\n"
   ]
  },
  {
   "cell_type": "markdown",
   "metadata": {},
   "source": [
    "### **3. Veriler Arasında Korelasyon Analizi**"
   ]
  },
  {
   "cell_type": "markdown",
   "metadata": {},
   "source": [
    "#### a. GANO Verisi ile Diğer Veriler Arasındaki İlişki"
   ]
  },
  {
   "cell_type": "code",
   "execution_count": null,
   "metadata": {},
   "outputs": [],
   "source": [
    "target_variable = \"GANO\"               # Hedef değişken: GANO\n",
    "\n",
    "correlation_results = {}\n",
    "\n",
    "for column in data.columns[1:]:\n",
    "    if data[column].dtype in [np.float64, np.int64] and column != target_variable:\n",
    "        \n",
    "        correlation, p_value = pearsonr(data[target_variable], data[column])                      # Pearson korelasyonunu ve p-değerini hesaplanması\n",
    "       \n",
    "        correlation_results[column] = {\"Korelasyon\": correlation, \"P-Değeri\": p_value}\n",
    "\n",
    "correlation_df = pd.DataFrame.from_dict(correlation_results, orient='index')                      # Sonuçların DataFrame'e çevrilmesi ve sıralı olarak gösterilmesi\n",
    "correlation_df = correlation_df.sort_values(by=\"Korelasyon\", ascending=False)\n",
    "\n",
    "display(correlation_df)"
   ]
  },
  {
   "cell_type": "markdown",
   "metadata": {},
   "source": [
    "#### b. GANO Verisi ile Diğer Veriler Arasındaki İlişkilerin Görselleştirilmesi"
   ]
  },
  {
   "cell_type": "markdown",
   "metadata": {},
   "source": [
    "##### i. Korelasyon Matrisi (Heatmap)"
   ]
  },
  {
   "cell_type": "code",
   "execution_count": null,
   "metadata": {},
   "outputs": [],
   "source": [
    "numerical_data = data.select_dtypes(include=[np.number])\n",
    "numerical_data = data.drop(columns=[\"OgrenciID\"]).select_dtypes(include=[np.number])\n",
    "plt.figure(figsize=(12, 8))  # Görsel boyutunu ayarla\n",
    "sns.heatmap(numerical_data.corr(), annot=True, cmap=\"coolwarm\", fmt=\".2f\", linewidths=0.5)\n",
    "plt.title(\"Korelasyon Matrisi - Isı Haritası\")\n",
    "plt.show()"
   ]
  },
  {
   "cell_type": "markdown",
   "metadata": {},
   "source": [
    "##### ii. Scatter Plot Grafikleri"
   ]
  },
  {
   "cell_type": "code",
   "execution_count": null,
   "metadata": {},
   "outputs": [],
   "source": [
    "# Hedef değişken\n",
    "target_variable = \"GANO\"\n",
    "\n",
    "numeric_columns = [\n",
    "    column for column in data.select_dtypes(include=[np.float64, np.int64]).columns\n",
    "    if column != target_variable and column != \"OgrenciID\"\n",
    "]\n",
    "\n",
    "# Izgara boyutunun belirlenmesi\n",
    "ncols = 3\n",
    "nrows = (len(numeric_columns) + ncols - 1) // ncols  # Satır sayısının hesaplanması\n",
    "\n",
    "# Izgara düzeni\n",
    "fig, axes = plt.subplots(nrows=nrows, ncols=ncols, figsize=(15, 5 * nrows))\n",
    "axes = axes.flatten()  # Izgarayı tek boyutlu hale getir\n",
    "\n",
    "# Scatter plot'ları çizilmesi\n",
    "for i, column in enumerate(numeric_columns):\n",
    "    sns.scatterplot(x=data[column], y=data[target_variable], ax=axes[i])\n",
    "    axes[i].set_title(f\"GANO ile {column} Arasındaki İlişki\")\n",
    "    axes[i].set_xlabel(column)\n",
    "    axes[i].set_ylabel(target_variable)\n",
    "    axes[i].grid(True)\n",
    "\n",
    "# Boş eksenleri kaldırılması\n",
    "for j in range(len(numeric_columns), len(axes)):\n",
    "    fig.delaxes(axes[j])\n",
    "\n",
    "plt.tight_layout()  # Grafikler arasında düzenli boşluk bırak\n",
    "plt.show()"
   ]
  },
  {
   "cell_type": "markdown",
   "metadata": {},
   "source": [
    "### **4. Çıkarımlar**"
   ]
  },
  {
   "cell_type": "markdown",
   "metadata": {},
   "source": [
    "##### Bu korelasyon ve p-değer tablosu üzerinden bir analiz yapalım. Temel odak noktası, korelasyon katsayıları ve bunların istatistiksel anlamlılıklarının p-değerleri ile değerlendirilmesidir.\n",
    "##### .\n",
    "##### Korelasyon Katsayıları (Correlation)\n",
    "##### Korelasyon katsayısı, iki değişken arasındaki doğrusal ilişkinin yönünü ve gücünü ifade eder:\n",
    "##### .\n",
    "##### **Pozitif Korelasyon:** Bir değişken arttığında diğerinin de artmasını ifade eder. (0 ile 1 arasında)\n",
    "##### **Negatif Korelasyon:** Bir değişken arttığında diğerinin azalmasını ifade eder. (-1 ile 0 arasında)\n",
    "##### **0'a Yakın:** İki değişken arasında anlamlı bir doğrusal ilişki olmadığını ifade eder.\n",
    "##### p-değeri, elde edilen korelasyonun tesadüfi olup olmadığını test eder:\n",
    "##### .\n",
    "##### **p < 0.05:** Korelasyon istatistiksel olarak anlamlıdır.\n",
    "##### **p > 0.05:** Korelasyon istatistiksel olarak anlamlı değildir (tesadüfen oluşmuş olabilir).\n",
    "##### .\n",
    "##### Detaylı Analiz\n",
    "##### Tablodaki her değişkeni sırayla inceleyelim:\n",
    "\n",
    "\n",
    "\n"
   ]
  },
  {
   "cell_type": "markdown",
   "metadata": {},
   "source": [
    "#### **1. Ebeveyn Desteği - GANO Analizi**                                       \n",
    "\n",
    "##### **Korelasyon:** 0.190 (zayıf pozitif ilişki)\n",
    "##### **p-değeri:** Çok düşük (anlamlı)\n",
    "##### **Sonuç:** Ebeveyn desteği ile başarı arasında zayıf bir pozitif ilişki var.\n"
   ]
  },
  {
   "cell_type": "markdown",
   "metadata": {},
   "source": [
    "##### \n",
    "#### **2. Haftalık Çalışma - GANO**\n",
    "\n",
    "##### **Korelasyon:** 0.179 (zayıf pozitif ilişki)\n",
    "##### **p-değeri:** Çok düşük (anlamlı)\n",
    "##### **Sonuç:** Haftalık çalışma ile başarı arasında zayıf bir pozitif ilişki var."
   ]
  },
  {
   "cell_type": "markdown",
   "metadata": {},
   "source": [
    "##### \n",
    "#### **3. Özel Ders - GANO**\n",
    "\n",
    "##### **Korelasyon:** 0.145 (zayıf pozitif ilişki)\n",
    "##### **p-değeri:** Çok düşük (anlamlı)\n",
    "##### **Sonuç:** Özel ders almanın başarıya küçük bir katkısı var."
   ]
  },
  {
   "cell_type": "markdown",
   "metadata": {},
   "source": [
    "##### \n",
    "#### **4. Müfredat Dışı Aktiviteler - GANO**\n",
    "\n",
    "##### **Korelasyon:** 0.094 (çok zayıf pozitif ilişki)\n",
    "##### **p-değeri:** Çok düşük (anlamlı)\n",
    "##### **Sonuç:** Müfredat dışı aktiviteler ile başarı arasında çok zayıf bir ilişki var."
   ]
  },
  {
   "cell_type": "markdown",
   "metadata": {},
   "source": [
    "##### \n",
    "#### **5. Müzik - GANO**\n",
    "\n",
    "##### **Korelasyon:** 0.073 (çok zayıf pozitif ilişki)\n",
    "##### **p-değeri:** Çok Düşük (anlamlı)\n",
    "##### **Sonuç:** Müzik ile başarı arasında çok zayıf bir pozitif ilişki var."
   ]
  },
  {
   "cell_type": "markdown",
   "metadata": {},
   "source": [
    "##### \n",
    "#### **6. Spor - GANO**\n",
    "\n",
    "##### **Korelasyon:** 0.058 (çok zayıf pozitif ilişki)\n",
    "##### **p-değeri:** Çok Düşük (anlamlı)\n",
    "##### **Sonuç:** Sporun başarıya etkisi minimal ancak pozitif yönde."
   ]
  },
  {
   "cell_type": "markdown",
   "metadata": {},
   "source": [
    "##### \n",
    "#### **7. Etnik Köken - GANO**\n",
    "\n",
    "##### **Korelasyon:** 0.028 (neredeyse ilişkisiz)\n",
    "##### **p-değeri:** Sıfıra Yakın (anlamlı değil)\n",
    "##### **Sonuç:** Etnik köken ile başarı arasında anlamlı bir ilişki yok."
   ]
  },
  {
   "cell_type": "markdown",
   "metadata": {},
   "source": [
    "##### \n",
    "#### **8. Gönüllülük - GANO**\n",
    "\n",
    "##### **Korelasyon:** 0.003 (yok denecek kadar düşük)\n",
    "##### **p-değeri:** Sıfıra Yakın (anlamlı değil)\n",
    "##### **Sonuç:** Gönüllülük ile başarı arasında ilişki yok."
   ]
  },
  {
   "cell_type": "markdown",
   "metadata": {},
   "source": [
    "#####  \n",
    "#### **9. Yaş - GANO**\n",
    "\n",
    "##### **Korelasyon:** 0.0002 (yok denecek kadar düşük)\n",
    "##### **p-değeri:** Sıfıra Yakın (anlamlı değil)\n",
    "##### **Sonuç:** Yaş ile başarı arasında bir ilişki yok."
   ]
  },
  {
   "cell_type": "markdown",
   "metadata": {},
   "source": [
    "##### \n",
    "#### **10. Cinsiyet - GANO**\n",
    "\n",
    "##### **Korelasyon:** -0.013 (yok denecek kadar düşük)\n",
    "##### **p-değeri:** Sıfıra Yakın (anlamlı değil)\n",
    "##### **Sonuç:** Cinsiyetin ile başarı arasında bir ilişkisi yok."
   ]
  },
  {
   "cell_type": "markdown",
   "metadata": {},
   "source": [
    "##### \n",
    "#### **11. Ebeveyn Eğitimi - GANO**\n",
    "\n",
    "##### **Korelasyon:** -0.036 (çok zayıf negatif ilişki)\n",
    "##### **p-değeri:** Sıfıra Yakın (anlamlı değil)\n",
    "##### **Sonuç:** Ebeveyn eğitimi ile başarı arasında zayıf bir negatif ilişki var ama anlamlı değil."
   ]
  },
  {
   "cell_type": "markdown",
   "metadata": {},
   "source": [
    "##### \n",
    "#### **12. Sınıf Seviyesi - GANO**\n",
    "\n",
    "##### **Korelasyon:** -0.783 (çok güçlü negatif ilişki)\n",
    "##### **p-değeri:** Güçlü (anlamlı)\n",
    "##### **Sonuç:** Sınıf seviyesi arttıkça başarı düşüyor."
   ]
  },
  {
   "cell_type": "markdown",
   "metadata": {},
   "source": [
    "##### \n",
    "#### **13. Devamsızlık - GANO**\n",
    "\n",
    "##### **Korelasyon:** -0.919 (çok güçlü negatif ilişki)\n",
    "##### **p-değeri:** Güçlü (anlamlı)\n",
    "##### **Sonuç:** Devamsızlık arttıkça başarı ciddi şekilde düşüyor."
   ]
  },
  {
   "cell_type": "markdown",
   "metadata": {},
   "source": [
    "##### \n",
    "#### **Genel Sonuçlar**\n",
    "##### **En Güçlü İlişkiler**: Devamsızlık ve sınıf seviyesi ile başarı arasında güçlü negatif ilişkiler var.\n",
    "##### **Zayıf Pozitif İlişkiler**: Ebeveyn desteği, haftalık çalışma gibi faktörler başarıya katkı sağlıyor ama etkisi sınırlı.\n",
    "##### **Anlamsız Faktörler:** Etnik köken, gönüllülük, yaş ve cinsiyet gibi faktörler başarıyı etkilemiyor.\n",
    "##### Bu analizle, başarıyı etkileyen faktörlerin belirginliği ve önceliklendirilmesi yapılabilir."
   ]
  }
 ],
 "metadata": {
  "kernelspec": {
   "display_name": "Python 3",
   "language": "python",
   "name": "python3"
  },
  "language_info": {
   "codemirror_mode": {
    "name": "ipython",
    "version": 3
   },
   "file_extension": ".py",
   "mimetype": "text/x-python",
   "name": "python",
   "nbconvert_exporter": "python",
   "pygments_lexer": "ipython3",
   "version": "3.11.9"
  }
 },
 "nbformat": 4,
 "nbformat_minor": 2
}
